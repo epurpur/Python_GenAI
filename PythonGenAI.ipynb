{
 "cells": [
  {
   "cell_type": "markdown",
   "id": "b2bc98b9-e572-44ae-b832-91e2a73a2ceb",
   "metadata": {},
   "source": [
    "# GenAI Prompt Engineering & Python"
   ]
  },
  {
   "cell_type": "markdown",
   "id": "9c17e39d-574b-4c4f-b273-551b8e80d6d6",
   "metadata": {},
   "source": [
    "This workshop is built on experiences I've had working with people at UVA on research projects. It is one thing to have a GenAI tool write some code for you. It is another to get it to write good code for you. Keep in mind, you (the human) are in control of the situation and need to guide Copilot, ChatGPT, or whatever AI tool needed to the correct results. Leveraging GenAI to help you write code can be a huge time saver if you know how to do it correctly."
   ]
  },
  {
   "cell_type": "markdown",
   "id": "d4474320-83f6-4314-b06b-ec1b5c9b3bb0",
   "metadata": {},
   "source": [
    "## Scenario 1: Temperature Sensor Data"
   ]
  },
  {
   "cell_type": "markdown",
   "id": "5da03ea8-a531-4c59-aa87-9412ca5b1fab",
   "metadata": {},
   "source": [
    "This was a project I worked on with a graduate student in Electrical Engineering. The lab had done a literature review on scholarly articles written on different temperature sensor implements. They compiled a spreadsheet with data from these articles and wanted to do some data visualization with the results. The student was struggling to plot this data in a meaningful way. I have removed identifying information from the dataset."
   ]
  },
  {
   "cell_type": "markdown",
   "id": "36ae4976-3638-4b75-9696-b456353fa07f",
   "metadata": {},
   "source": [
    "**Step 1:** Install and import libraries. If you have already installed Anaconda you surely have these libraries already."
   ]
  },
  {
   "cell_type": "code",
   "execution_count": null,
   "id": "0d221f43-42ac-42eb-bfff-edfec68ea6d4",
   "metadata": {},
   "outputs": [],
   "source": [
    "!conda install --yes numpy pandas matplotlib"
   ]
  },
  {
   "cell_type": "code",
   "execution_count": null,
   "id": "8e8e5bb6-16a8-4ef1-89ea-d82901adcda9",
   "metadata": {},
   "outputs": [],
   "source": [
    "import pandas as pd\n",
    "import matplotlib.pyplot as plt"
   ]
  },
  {
   "cell_type": "markdown",
   "id": "9d40ea33-3d73-442c-bdf3-997c69a8ebcd",
   "metadata": {},
   "source": [
    "**Step 2:** Load data"
   ]
  },
  {
   "cell_type": "code",
   "execution_count": null,
   "id": "780249ad-48af-4c7f-b829-10b05e9fe30f",
   "metadata": {},
   "outputs": [],
   "source": [
    "# Load the Excel file and assign correct headers from row 5\n",
    "df = pd.read_excel(\"TemperatureSensorsData.xlsx\", sheet_name=\"Overview\", engine=\"openpyxl\", skiprows=5)"
   ]
  },
  {
   "cell_type": "markdown",
   "id": "eff3c03e-3bd9-4a0c-acbc-287e167a3aa0",
   "metadata": {},
   "source": [
    "### Take a look at the data\n",
    "\n",
    "I recommend now to pause and take a look at the data we have loaded with python's pandas library. Open the file *\"TemperatureSensorsData.xlsx\"*. This data was compiled by the student from 25 scientific articles. The spreadsheet was populated with data about all the sensors, capturing the sensor performance, size, energy output, and so on. I am not an electrical engineer and you don't have to be either to appreciate the rest of this exercise."
   ]
  },
  {
   "cell_type": "markdown",
   "id": "14eb4cd8-2eb8-45ef-bc41-c635e90cfb79",
   "metadata": {},
   "source": [
    "**Step 3:** Plot the data\n",
    "\n",
    "The student wanted to plot the data in different ways, with different variables on the x,y axes. She didn't know how to do that. This is where GenAI comes in."
   ]
  },
  {
   "cell_type": "markdown",
   "id": "b6d233e3-0391-4f0c-a23f-45d3a45a3682",
   "metadata": {},
   "source": [
    "### Prompting\n",
    "\n",
    "Now let's ask our GenAI tool (Copilot) for help. \n",
    "\n",
    "**Question 1** How to make a scatter plot with Supply Voltage on the x axis and Conversion Time on the y axis.\n",
    "\n",
    "*Things to keep in mind*\n",
    "- Load the dataset into the AI chatbot\n",
    "- Tell the AI specifically which language and libraries you want to use (if you know) such as python pandas, matplotlib, numpy\n",
    "- Tell it how you want the data to look. *Ex:* I want Supply Voltage on the x axis and Conversion Time on the y axis\n",
    "- Specifically ask for the code to do this. Copilot tends to not give the code unless explicitly asked.\n",
    "\n",
    "*Example Prompt:* Load this dataset as a python pandas dataframe. Use the matplotlib library to plot the dataset with \"Supply Voltage\" on the x axis and \"Conversion Time\" on the y axis. Show the code to do this. \n",
    "  "
   ]
  },
  {
   "cell_type": "code",
   "execution_count": null,
   "id": "377ea231-386e-412d-8150-bf24dd3ccdb1",
   "metadata": {},
   "outputs": [],
   "source": [
    "''' Enter code from GenAI here'''\n",
    "\n"
   ]
  },
  {
   "cell_type": "markdown",
   "id": "de44c16b-171a-437b-bd3b-9260bf219799",
   "metadata": {},
   "source": [
    "### Before we move on\n",
    "\n",
    "Don't just accept the code blindly. Think about these things before moving to the next step.\n",
    "- Does the code run without errors?\n",
    "- Does the output look correct?\n",
    "- Do I understand the code? Depending on the circumstances, you don't necessarily have to understand every line but do you at least understand the code in chunks?\n",
    "- Is the code commented and documented?\n",
    "- Does the code handle exceptions, edge cases, bad data, missing data, null values, etc?"
   ]
  },
  {
   "cell_type": "markdown",
   "id": "ffe19de5-8d68-4510-ab21-9827e6174d43",
   "metadata": {},
   "source": [
    "**Step 4:** Plot data with labels\n",
    "\n",
    "Plotting the data is easy enough and the AI should be able to handle that. The next thing the student wanted to do was to add labels to all the dots on the scatterplot. Specifically, she wanted to label each dot with value from the \"Paper Number\" column. This would allow a quick reference of the performance of each temperature sensor device.\n",
    "\n",
    "**Question 2:** How to make the same plot but label the points on the plot with the corresponding value in the \"Paper Number\" column?\n",
    "\n",
    "*What would be your prompt now?*"
   ]
  },
  {
   "cell_type": "code",
   "execution_count": null,
   "id": "669be2f2-1a8b-4410-a1c2-ab6e53245a27",
   "metadata": {},
   "outputs": [],
   "source": [
    "'''Enter code from GenAI here'''\n",
    "\n"
   ]
  },
  {
   "cell_type": "markdown",
   "id": "91628925-788f-43a6-8db9-25898c13725d",
   "metadata": {},
   "source": [
    "*Follow up thoughts*\n",
    "\n",
    "The code is definitely more complex than the first, standard scatter plot. One particularly tricky part of it is how the labels are created. For example, the code for the labels could look something like this\n",
    "\n",
    "```\n",
    "\n",
    "# Annotate each point with the corresponding Paper Number\n",
    "for _, row in df_clean.iterrows():\n",
    "    plt.annotate(int(row['Paper Number']), \n",
    "                 (row['Supply Voltage (V)'], row['Conversion Time (ms)']),\n",
    "                 textcoords=\"offset points\", xytext=(5,5), ha='left', fontsize=8)\n",
    "\n",
    "```\n",
    "\n",
    "Do you understand what is going on here? If you don't how would you follow up on that?\n",
    "\n",
    "*Example Prompt:* Further explain the section in which the labels are created. (You can copy & paste your code for that in with the prompt). Walk me through the code line by line with comments"
   ]
  },
  {
   "cell_type": "markdown",
   "id": "adbd0d17-94c8-49d8-91e4-d6af8ab0ea18",
   "metadata": {},
   "source": [
    "**Question 3:** After looking more closely at the values in the 'Conversion Time' column, you'll see that there is a big range of values. In the plot, a lot of these dots look like they have a value of 0. Looking at the data in the spreadsheet, this is not true. The student suggested to use a logarithmic scale on the y axis. Honestly, I didn't really know what that meant. Let's walk through the steps we took to figure that out together.\n",
    "\n",
    "*Learn about what is a Logarithmic Scale.* We learned about this outside of the context of this specific dataset first. I asked the AI \"*What is a logarithmic scale? Cite your sources*\". The purpose of this is to learn some basics from the AI about this topic and follow up with that via a credible source.\n",
    "\n",
    "*How to make the y axis of the plot a logarithmic scale.* Once we read about and determined that a logarithmic scale was in fact what the student wanted, we prompted the AI to do that. Give it a shot below.\n",
    "\n",
    "*Lastly.* Again, make sure the code is doing what you intend and that you understand it.  "
   ]
  },
  {
   "cell_type": "code",
   "execution_count": null,
   "id": "aaf62f0d-20dd-46f9-9e1d-90c87bf3fb4e",
   "metadata": {},
   "outputs": [],
   "source": [
    "'''Enter code from GenAI here'''\n"
   ]
  },
  {
   "cell_type": "markdown",
   "id": "a193e249-515c-4cd4-aa7e-3c99679b0b07",
   "metadata": {},
   "source": [
    "## Scenario 2: Soil Sample Data"
   ]
  },
  {
   "cell_type": "markdown",
   "id": "93588a0f-42eb-4585-8964-7c9cc1745f8f",
   "metadata": {},
   "source": [
    "This is another example of a project I worked on with a graduate student in Environmental Science over the course of the summer 2025. This is a slimmed down dataset from the original, just focusing on the last part of the process, which was visualizing the data. The original dataset was daily readings from a research site in Wisconsin, taking soil samples and capturing measurements of many different chemical elements in the soil. This is time-series data, meaning there was a daily measurement taken over the course of several months. "
   ]
  },
  {
   "cell_type": "markdown",
   "id": "97342655-3928-40d8-ab93-4f57b8d3e87b",
   "metadata": {},
   "source": [
    "**Step 1:** Load the Data"
   ]
  },
  {
   "cell_type": "code",
   "execution_count": null,
   "id": "7d9cb972-83ee-49fb-964b-a5db5ffc4e73",
   "metadata": {},
   "outputs": [],
   "source": [
    "# Load the Excel file and assign correct headers from row 5\n",
    "df = pd.read_csv(\"soil_elements_timeseries.csv\")"
   ]
  },
  {
   "cell_type": "markdown",
   "id": "05ffc31e-f561-4b7c-9a53-95dea59731e2",
   "metadata": {},
   "source": [
    "We had to think about how we wanted to plot the data. The student didn't know what the data looked like. We started with a simple line plot. "
   ]
  },
  {
   "cell_type": "markdown",
   "id": "a6972f9c-76b2-4f86-9cc7-d09ce9da6d46",
   "metadata": {},
   "source": [
    "**Step 2:** Plot the Data\n",
    "\n",
    "When plotting this data, we want the dates on the X axis and CO2 values on the Y axis. The unit of measurement for the C02 data is parts per million. We want to load this dataset with the python pandas library and plot it with the Matplotlib library."
   ]
  },
  {
   "cell_type": "code",
   "execution_count": null,
   "id": "07e336a5-e1ac-440b-a6aa-9db2b72fdbd9",
   "metadata": {},
   "outputs": [],
   "source": [
    "''' Enter code from GenAI here '''\n",
    "\n"
   ]
  },
  {
   "cell_type": "markdown",
   "id": "b08c8dcf-3a8b-4c5d-beb2-d969d4c0c7c8",
   "metadata": {},
   "source": [
    "### Before we move on"
   ]
  },
  {
   "cell_type": "markdown",
   "id": "5471eb8d-9eaf-4a9e-8173-715a3f7e9280",
   "metadata": {},
   "source": [
    "As we did previously, evaluate both the code and the resulting plot. Do you understand it? Do you like it? Is it showing the correct variables, dates, etc. \n",
    "\n",
    "### A few things to consider\n",
    "\n",
    "I don't know exactly what your output will look like but in my testing, a few things to consider include...\n",
    "- There is missing data in some rows, meaning there was no data gathered for that date. Are these represented correctly on the graph?\n",
    "- Is a line plot the best way to represent this data? Maybe a scatter plot would be better?\n",
    "- Is the unit of measurement shown on the Y axis. Remember, this is parts per million.\n",
    "- Are the labels on the X axis represented accurately?\n",
    "- Do you understand all the lines of the code and what they are doing?\n",
    "\n",
    "If these or any other issues are present, try again with a new prompt below."
   ]
  },
  {
   "cell_type": "code",
   "execution_count": null,
   "id": "5e3058cf-00b6-461a-94e4-bda3ab5393e4",
   "metadata": {},
   "outputs": [],
   "source": [
    "''' Enter code from GenAI here '''"
   ]
  },
  {
   "cell_type": "code",
   "execution_count": null,
   "id": "7ede4b7d-0d16-4136-9dc5-708585dff88c",
   "metadata": {},
   "outputs": [],
   "source": []
  }
 ],
 "metadata": {
  "kernelspec": {
   "display_name": "Python [conda env:base] *",
   "language": "python",
   "name": "conda-base-py"
  },
  "language_info": {
   "codemirror_mode": {
    "name": "ipython",
    "version": 3
   },
   "file_extension": ".py",
   "mimetype": "text/x-python",
   "name": "python",
   "nbconvert_exporter": "python",
   "pygments_lexer": "ipython3",
   "version": "3.13.5"
  }
 },
 "nbformat": 4,
 "nbformat_minor": 5
}
